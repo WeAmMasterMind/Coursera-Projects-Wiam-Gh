{
 "cells": [
  {
   "cell_type": "markdown",
   "id": "d624b00e-912e-4688-9e95-d6946c1a752e",
   "metadata": {},
   "source": [
    "<h1>Data Science Tools and Ecosystem<h1>"
   ]
  },
  {
   "cell_type": "markdown",
   "id": "17332334-5656-4c1b-b443-29b84079a19a",
   "metadata": {
    "tags": []
   },
   "source": [
    "In this notebook, Data Science Tools and Ecosystem are summarized."
   ]
  },
  {
   "cell_type": "markdown",
   "id": "7786bdf6-844d-4d70-b182-ce8d3866f165",
   "metadata": {},
   "source": [
    "<b>Objectives</b>\n",
    "<ul>\n",
    "    <li>List Data Science Languages</li>\n",
    "    <li>List Data Science Libraries</li>\n",
    "    <li>List Data Science Tools</li>\n",
    "</ul>"
   ]
  },
  {
   "cell_type": "markdown",
   "id": "56ce7183-8058-4255-96a0-60cc0253e891",
   "metadata": {},
   "source": [
    "Some of the popular languages that Data Scientists use are:\n",
    "<ol>\n",
    "    <li>Python</li>\n",
    "    <li>R</li>\n",
    "    <li>Julia</li>\n",
    "</ol>"
   ]
  },
  {
   "cell_type": "markdown",
   "id": "ad95f384-c794-4984-a191-42b29a83f8aa",
   "metadata": {},
   "source": [
    "Some of the commonly used libraries used by Data Scientists include:\n",
    "<ol>\n",
    "    <li>Pandas</li>\n",
    "    <li>NumPy</li>\n",
    "    <li>Maplotlib</li>\n",
    "    <li>Seaborn</li>\n",
    "</ol>\n",
    "    "
   ]
  },
  {
   "cell_type": "markdown",
   "id": "c367474a-89be-4b63-b4ef-fb206883aff9",
   "metadata": {},
   "source": [
    "<table>\n",
    "    <tr>\n",
    "        <th><h2>Data Science Tools</h2></th>\n",
    "        <th>JupyterNoteBook</th>\n",
    "        <th>JupyterLab</th>\n",
    "        <th>Spyder</th>\n",
    "    </tr>\n",
    "</table>\n",
    "        "
   ]
  },
  {
   "cell_type": "markdown",
   "id": "ab856ac7-368c-40a2-9814-cc02b40dea45",
   "metadata": {
    "tags": []
   },
   "source": [
    "<h3>Below are a few examples of evaluating arithmetic expressions in Python</h3>\n",
    "(+) addition\n",
    "(-) Substraction\n",
    "(*) Multiply"
   ]
  },
  {
   "cell_type": "markdown",
   "id": "91152661-98ee-4f67-999e-26c8e40a0fea",
   "metadata": {
    "tags": []
   },
   "source": [
    "This is a simple arithmetic expression to mutiply then add integers\n",
    "The Equation:"
   ]
  },
  {
   "cell_type": "code",
   "execution_count": 4,
   "id": "403a9525-021b-4dd7-a150-903577414ec0",
   "metadata": {
    "tags": []
   },
   "outputs": [
    {
     "data": {
      "text/plain": [
       "17.0"
      ]
     },
     "execution_count": 4,
     "metadata": {},
     "output_type": "execute_result"
    }
   ],
   "source": [
    "(3*4)+5."
   ]
  },
  {
   "cell_type": "markdown",
   "id": "971f075f-2b5d-4aa0-8129-1868be8902dd",
   "metadata": {},
   "source": [
    "We're going to convert 200 minutes to hours now"
   ]
  },
  {
   "cell_type": "code",
   "execution_count": 5,
   "id": "f049c2b7-14af-4321-a6d3-7e3b2d25a4a4",
   "metadata": {
    "tags": []
   },
   "outputs": [
    {
     "data": {
      "text/plain": [
       "3.3333333333333335"
      ]
     },
     "execution_count": 5,
     "metadata": {},
     "output_type": "execute_result"
    }
   ],
   "source": [
    "200/60"
   ]
  },
  {
   "cell_type": "markdown",
   "id": "209b68c1-d663-4a82-9032-7b1a2a802d47",
   "metadata": {},
   "source": [
    "<h2>Author</h2>\n",
    "Wiam Gh"
   ]
  }
 ],
 "metadata": {
  "kernelspec": {
   "display_name": "Python 3 (ipykernel)",
   "language": "python",
   "name": "python3"
  },
  "language_info": {
   "codemirror_mode": {
    "name": "ipython",
    "version": 3
   },
   "file_extension": ".py",
   "mimetype": "text/x-python",
   "name": "python",
   "nbconvert_exporter": "python",
   "pygments_lexer": "ipython3",
   "version": "3.11.5"
  },
  "toc-showtags": false
 },
 "nbformat": 4,
 "nbformat_minor": 5
}
